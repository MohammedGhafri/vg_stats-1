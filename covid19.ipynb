{
 "metadata": {
  "language_info": {
   "codemirror_mode": {
    "name": "ipython",
    "version": 3
   },
   "file_extension": ".py",
   "mimetype": "text/x-python",
   "name": "python",
   "nbconvert_exporter": "python",
   "pygments_lexer": "ipython3",
   "version": "3.8.5-final"
  },
  "orig_nbformat": 2,
  "kernelspec": {
   "name": "python_defaultSpec_1598861916504",
   "display_name": "Python 3.8.5 64-bit ('.venv': venv)"
  }
 },
 "nbformat": 4,
 "nbformat_minor": 2,
 "cells": [
  {
   "cell_type": "code",
   "execution_count": 4,
   "metadata": {},
   "outputs": [],
   "source": [
    "import pandas as pd\n",
    "import numpy as np\n",
    "import matplotlib.pyplot as plt\n",
    "%matplotlib inline\n"
   ]
  },
  {
   "cell_type": "code",
   "execution_count": 11,
   "metadata": {},
   "outputs": [
    {
     "output_type": "execute_result",
     "data": {
      "text/plain": "             Date      Country/Region  Confirmed  Deaths  Recovered  Active  \\\n35146  2020-07-27      United Kingdom     301708   45844       1437  254427   \n35147  2020-07-27             Uruguay       1202      35        951     216   \n35148  2020-07-27          Uzbekistan      21209     121      11674    9414   \n35149  2020-07-27           Venezuela      15988     146       9959    5883   \n35150  2020-07-27             Vietnam        431       0        365      66   \n35151  2020-07-27  West Bank and Gaza      10621      78       3752    6791   \n35152  2020-07-27      Western Sahara         10       1          8       1   \n35153  2020-07-27               Yemen       1691     483        833     375   \n35154  2020-07-27              Zambia       4552     140       2815    1597   \n35155  2020-07-27            Zimbabwe       2704      36        542    2126   \n\n       New cases  New deaths  New recovered             WHO Region  \n35146        688           7              3                 Europe  \n35147         10           1              3               Americas  \n35148        678           5            569                 Europe  \n35149        525           4            213               Americas  \n35150         11           0              0        Western Pacific  \n35151        152           2              0  Eastern Mediterranean  \n35152          0           0              0                 Africa  \n35153         10           4             36  Eastern Mediterranean  \n35154         71           1            465                 Africa  \n35155        192           2             24                 Africa  ",
      "text/html": "<div>\n<style scoped>\n    .dataframe tbody tr th:only-of-type {\n        vertical-align: middle;\n    }\n\n    .dataframe tbody tr th {\n        vertical-align: top;\n    }\n\n    .dataframe thead th {\n        text-align: right;\n    }\n</style>\n<table border=\"1\" class=\"dataframe\">\n  <thead>\n    <tr style=\"text-align: right;\">\n      <th></th>\n      <th>Date</th>\n      <th>Country/Region</th>\n      <th>Confirmed</th>\n      <th>Deaths</th>\n      <th>Recovered</th>\n      <th>Active</th>\n      <th>New cases</th>\n      <th>New deaths</th>\n      <th>New recovered</th>\n      <th>WHO Region</th>\n    </tr>\n  </thead>\n  <tbody>\n    <tr>\n      <th>35146</th>\n      <td>2020-07-27</td>\n      <td>United Kingdom</td>\n      <td>301708</td>\n      <td>45844</td>\n      <td>1437</td>\n      <td>254427</td>\n      <td>688</td>\n      <td>7</td>\n      <td>3</td>\n      <td>Europe</td>\n    </tr>\n    <tr>\n      <th>35147</th>\n      <td>2020-07-27</td>\n      <td>Uruguay</td>\n      <td>1202</td>\n      <td>35</td>\n      <td>951</td>\n      <td>216</td>\n      <td>10</td>\n      <td>1</td>\n      <td>3</td>\n      <td>Americas</td>\n    </tr>\n    <tr>\n      <th>35148</th>\n      <td>2020-07-27</td>\n      <td>Uzbekistan</td>\n      <td>21209</td>\n      <td>121</td>\n      <td>11674</td>\n      <td>9414</td>\n      <td>678</td>\n      <td>5</td>\n      <td>569</td>\n      <td>Europe</td>\n    </tr>\n    <tr>\n      <th>35149</th>\n      <td>2020-07-27</td>\n      <td>Venezuela</td>\n      <td>15988</td>\n      <td>146</td>\n      <td>9959</td>\n      <td>5883</td>\n      <td>525</td>\n      <td>4</td>\n      <td>213</td>\n      <td>Americas</td>\n    </tr>\n    <tr>\n      <th>35150</th>\n      <td>2020-07-27</td>\n      <td>Vietnam</td>\n      <td>431</td>\n      <td>0</td>\n      <td>365</td>\n      <td>66</td>\n      <td>11</td>\n      <td>0</td>\n      <td>0</td>\n      <td>Western Pacific</td>\n    </tr>\n    <tr>\n      <th>35151</th>\n      <td>2020-07-27</td>\n      <td>West Bank and Gaza</td>\n      <td>10621</td>\n      <td>78</td>\n      <td>3752</td>\n      <td>6791</td>\n      <td>152</td>\n      <td>2</td>\n      <td>0</td>\n      <td>Eastern Mediterranean</td>\n    </tr>\n    <tr>\n      <th>35152</th>\n      <td>2020-07-27</td>\n      <td>Western Sahara</td>\n      <td>10</td>\n      <td>1</td>\n      <td>8</td>\n      <td>1</td>\n      <td>0</td>\n      <td>0</td>\n      <td>0</td>\n      <td>Africa</td>\n    </tr>\n    <tr>\n      <th>35153</th>\n      <td>2020-07-27</td>\n      <td>Yemen</td>\n      <td>1691</td>\n      <td>483</td>\n      <td>833</td>\n      <td>375</td>\n      <td>10</td>\n      <td>4</td>\n      <td>36</td>\n      <td>Eastern Mediterranean</td>\n    </tr>\n    <tr>\n      <th>35154</th>\n      <td>2020-07-27</td>\n      <td>Zambia</td>\n      <td>4552</td>\n      <td>140</td>\n      <td>2815</td>\n      <td>1597</td>\n      <td>71</td>\n      <td>1</td>\n      <td>465</td>\n      <td>Africa</td>\n    </tr>\n    <tr>\n      <th>35155</th>\n      <td>2020-07-27</td>\n      <td>Zimbabwe</td>\n      <td>2704</td>\n      <td>36</td>\n      <td>542</td>\n      <td>2126</td>\n      <td>192</td>\n      <td>2</td>\n      <td>24</td>\n      <td>Africa</td>\n    </tr>\n  </tbody>\n</table>\n</div>"
     },
     "metadata": {},
     "execution_count": 11
    }
   ],
   "source": [
    "df = pd.read_csv('./full_grouped.csv')\n",
    "df.tail(10)"
   ]
  },
  {
   "cell_type": "code",
   "execution_count": 15,
   "metadata": {},
   "outputs": [
    {
     "output_type": "execute_result",
     "data": {
      "text/plain": "Date                         2020-07-27\nCountry/Region                   Jordan\nConfirmed                          1176\nDeaths                               11\nRecovered                          1041\nActive                              124\nNew cases                             8\nNew deaths                            0\nNew recovered                         0\nWHO Region        Eastern Mediterranean\nName: 35057, dtype: object"
     },
     "metadata": {},
     "execution_count": 15
    }
   ],
   "source": [
    "df.iloc[-99]"
   ]
  },
  {
   "cell_type": "code",
   "execution_count": 18,
   "metadata": {},
   "outputs": [],
   "source": [
    "all_recovered = df['Recovered']"
   ]
  },
  {
   "cell_type": "code",
   "execution_count": 19,
   "metadata": {},
   "outputs": [
    {
     "output_type": "execute_result",
     "data": {
      "text/plain": "3233.6"
     },
     "metadata": {},
     "execution_count": 19
    }
   ],
   "source": [
    "all_recovered.tail(10).mean()"
   ]
  },
  {
   "cell_type": "code",
   "execution_count": 22,
   "metadata": {},
   "outputs": [
    {
     "output_type": "execute_result",
     "data": {
      "text/plain": "           Country/Region  New cases  New deaths\n35146      United Kingdom        688           7\n35147             Uruguay         10           1\n35148          Uzbekistan        678           5\n35149           Venezuela        525           4\n35150             Vietnam         11           0\n35151  West Bank and Gaza        152           2\n35152      Western Sahara          0           0\n35153               Yemen         10           4\n35154              Zambia         71           1\n35155            Zimbabwe        192           2",
      "text/html": "<div>\n<style scoped>\n    .dataframe tbody tr th:only-of-type {\n        vertical-align: middle;\n    }\n\n    .dataframe tbody tr th {\n        vertical-align: top;\n    }\n\n    .dataframe thead th {\n        text-align: right;\n    }\n</style>\n<table border=\"1\" class=\"dataframe\">\n  <thead>\n    <tr style=\"text-align: right;\">\n      <th></th>\n      <th>Country/Region</th>\n      <th>New cases</th>\n      <th>New deaths</th>\n    </tr>\n  </thead>\n  <tbody>\n    <tr>\n      <th>35146</th>\n      <td>United Kingdom</td>\n      <td>688</td>\n      <td>7</td>\n    </tr>\n    <tr>\n      <th>35147</th>\n      <td>Uruguay</td>\n      <td>10</td>\n      <td>1</td>\n    </tr>\n    <tr>\n      <th>35148</th>\n      <td>Uzbekistan</td>\n      <td>678</td>\n      <td>5</td>\n    </tr>\n    <tr>\n      <th>35149</th>\n      <td>Venezuela</td>\n      <td>525</td>\n      <td>4</td>\n    </tr>\n    <tr>\n      <th>35150</th>\n      <td>Vietnam</td>\n      <td>11</td>\n      <td>0</td>\n    </tr>\n    <tr>\n      <th>35151</th>\n      <td>West Bank and Gaza</td>\n      <td>152</td>\n      <td>2</td>\n    </tr>\n    <tr>\n      <th>35152</th>\n      <td>Western Sahara</td>\n      <td>0</td>\n      <td>0</td>\n    </tr>\n    <tr>\n      <th>35153</th>\n      <td>Yemen</td>\n      <td>10</td>\n      <td>4</td>\n    </tr>\n    <tr>\n      <th>35154</th>\n      <td>Zambia</td>\n      <td>71</td>\n      <td>1</td>\n    </tr>\n    <tr>\n      <th>35155</th>\n      <td>Zimbabwe</td>\n      <td>192</td>\n      <td>2</td>\n    </tr>\n  </tbody>\n</table>\n</div>"
     },
     "metadata": {},
     "execution_count": 22
    }
   ],
   "source": [
    "df[['Country/Region','New cases','New deaths']].tail(10)"
   ]
  },
  {
   "cell_type": "code",
   "execution_count": 23,
   "metadata": {},
   "outputs": [
    {
     "output_type": "execute_result",
     "data": {
      "text/plain": "          Confirmed         Deaths     Recovered        Active    New cases  \\\ncount  3.515600e+04   35156.000000  3.515600e+04  3.515600e+04  35156.00000   \nmean   2.356663e+04    1234.068239  1.104813e+04  1.128443e+04    469.36375   \nstd    1.499818e+05    7437.238354  6.454640e+04  8.997149e+04   3005.86754   \nmin    0.000000e+00       0.000000  0.000000e+00 -2.000000e+00      0.00000   \n25%    1.000000e+00       0.000000  0.000000e+00  0.000000e+00      0.00000   \n50%    2.500000e+02       4.000000  3.300000e+01  8.500000e+01      2.00000   \n75%    3.640250e+03      78.250000  1.286250e+03  1.454000e+03     75.00000   \nmax    4.290259e+06  148011.000000  1.846641e+06  2.816444e+06  77255.00000   \n\n         New deaths  New recovered  \ncount  35156.000000   35156.000000  \nmean      18.603339     269.315593  \nstd      115.706351    2068.063852  \nmin    -1918.000000  -16298.000000  \n25%        0.000000       0.000000  \n50%        0.000000       0.000000  \n75%        1.000000      20.000000  \nmax     3887.000000  140050.000000  ",
      "text/html": "<div>\n<style scoped>\n    .dataframe tbody tr th:only-of-type {\n        vertical-align: middle;\n    }\n\n    .dataframe tbody tr th {\n        vertical-align: top;\n    }\n\n    .dataframe thead th {\n        text-align: right;\n    }\n</style>\n<table border=\"1\" class=\"dataframe\">\n  <thead>\n    <tr style=\"text-align: right;\">\n      <th></th>\n      <th>Confirmed</th>\n      <th>Deaths</th>\n      <th>Recovered</th>\n      <th>Active</th>\n      <th>New cases</th>\n      <th>New deaths</th>\n      <th>New recovered</th>\n    </tr>\n  </thead>\n  <tbody>\n    <tr>\n      <th>count</th>\n      <td>3.515600e+04</td>\n      <td>35156.000000</td>\n      <td>3.515600e+04</td>\n      <td>3.515600e+04</td>\n      <td>35156.00000</td>\n      <td>35156.000000</td>\n      <td>35156.000000</td>\n    </tr>\n    <tr>\n      <th>mean</th>\n      <td>2.356663e+04</td>\n      <td>1234.068239</td>\n      <td>1.104813e+04</td>\n      <td>1.128443e+04</td>\n      <td>469.36375</td>\n      <td>18.603339</td>\n      <td>269.315593</td>\n    </tr>\n    <tr>\n      <th>std</th>\n      <td>1.499818e+05</td>\n      <td>7437.238354</td>\n      <td>6.454640e+04</td>\n      <td>8.997149e+04</td>\n      <td>3005.86754</td>\n      <td>115.706351</td>\n      <td>2068.063852</td>\n    </tr>\n    <tr>\n      <th>min</th>\n      <td>0.000000e+00</td>\n      <td>0.000000</td>\n      <td>0.000000e+00</td>\n      <td>-2.000000e+00</td>\n      <td>0.00000</td>\n      <td>-1918.000000</td>\n      <td>-16298.000000</td>\n    </tr>\n    <tr>\n      <th>25%</th>\n      <td>1.000000e+00</td>\n      <td>0.000000</td>\n      <td>0.000000e+00</td>\n      <td>0.000000e+00</td>\n      <td>0.00000</td>\n      <td>0.000000</td>\n      <td>0.000000</td>\n    </tr>\n    <tr>\n      <th>50%</th>\n      <td>2.500000e+02</td>\n      <td>4.000000</td>\n      <td>3.300000e+01</td>\n      <td>8.500000e+01</td>\n      <td>2.00000</td>\n      <td>0.000000</td>\n      <td>0.000000</td>\n    </tr>\n    <tr>\n      <th>75%</th>\n      <td>3.640250e+03</td>\n      <td>78.250000</td>\n      <td>1.286250e+03</td>\n      <td>1.454000e+03</td>\n      <td>75.00000</td>\n      <td>1.000000</td>\n      <td>20.000000</td>\n    </tr>\n    <tr>\n      <th>max</th>\n      <td>4.290259e+06</td>\n      <td>148011.000000</td>\n      <td>1.846641e+06</td>\n      <td>2.816444e+06</td>\n      <td>77255.00000</td>\n      <td>3887.000000</td>\n      <td>140050.000000</td>\n    </tr>\n  </tbody>\n</table>\n</div>"
     },
     "metadata": {},
     "execution_count": 23
    }
   ],
   "source": [
    "df.describe()"
   ]
  },
  {
   "cell_type": "code",
   "execution_count": 30,
   "metadata": {},
   "outputs": [
    {
     "output_type": "execute_result",
     "data": {
      "text/plain": "             Date            Country/Region  New cases\n33085  2020-07-16                        US      77255\n34581  2020-07-24                        US      73715\n33272  2020-07-17                        US      71558\n34207  2020-07-22                        US      70910\n34394  2020-07-23                        US      68695\n...           ...                       ...        ...\n19855  2020-05-07  Central African Republic          0\n5363   2020-02-19                      Oman          0\n19852  2020-05-07                  Cambodia          0\n19850  2020-05-07                   Burundi          0\n0      2020-01-22               Afghanistan          0\n\n[35156 rows x 3 columns]",
      "text/html": "<div>\n<style scoped>\n    .dataframe tbody tr th:only-of-type {\n        vertical-align: middle;\n    }\n\n    .dataframe tbody tr th {\n        vertical-align: top;\n    }\n\n    .dataframe thead th {\n        text-align: right;\n    }\n</style>\n<table border=\"1\" class=\"dataframe\">\n  <thead>\n    <tr style=\"text-align: right;\">\n      <th></th>\n      <th>Date</th>\n      <th>Country/Region</th>\n      <th>New cases</th>\n    </tr>\n  </thead>\n  <tbody>\n    <tr>\n      <th>33085</th>\n      <td>2020-07-16</td>\n      <td>US</td>\n      <td>77255</td>\n    </tr>\n    <tr>\n      <th>34581</th>\n      <td>2020-07-24</td>\n      <td>US</td>\n      <td>73715</td>\n    </tr>\n    <tr>\n      <th>33272</th>\n      <td>2020-07-17</td>\n      <td>US</td>\n      <td>71558</td>\n    </tr>\n    <tr>\n      <th>34207</th>\n      <td>2020-07-22</td>\n      <td>US</td>\n      <td>70910</td>\n    </tr>\n    <tr>\n      <th>34394</th>\n      <td>2020-07-23</td>\n      <td>US</td>\n      <td>68695</td>\n    </tr>\n    <tr>\n      <th>...</th>\n      <td>...</td>\n      <td>...</td>\n      <td>...</td>\n    </tr>\n    <tr>\n      <th>19855</th>\n      <td>2020-05-07</td>\n      <td>Central African Republic</td>\n      <td>0</td>\n    </tr>\n    <tr>\n      <th>5363</th>\n      <td>2020-02-19</td>\n      <td>Oman</td>\n      <td>0</td>\n    </tr>\n    <tr>\n      <th>19852</th>\n      <td>2020-05-07</td>\n      <td>Cambodia</td>\n      <td>0</td>\n    </tr>\n    <tr>\n      <th>19850</th>\n      <td>2020-05-07</td>\n      <td>Burundi</td>\n      <td>0</td>\n    </tr>\n    <tr>\n      <th>0</th>\n      <td>2020-01-22</td>\n      <td>Afghanistan</td>\n      <td>0</td>\n    </tr>\n  </tbody>\n</table>\n<p>35156 rows × 3 columns</p>\n</div>"
     },
     "metadata": {},
     "execution_count": 30
    }
   ],
   "source": [
    "df[['Date','Country/Region','New cases']].sort_values('New cases', ascending=False)"
   ]
  },
  {
   "cell_type": "code",
   "execution_count": 28,
   "metadata": {},
   "outputs": [
    {
     "output_type": "execute_result",
     "data": {
      "text/plain": "Index(['Date', 'Country/Region', 'Confirmed', 'Deaths', 'Recovered', 'Active',\n       'New cases', 'New deaths', 'New recovered', 'WHO Region'],\n      dtype='object')"
     },
     "metadata": {},
     "execution_count": 28
    }
   ],
   "source": [
    "df.keys()"
   ]
  },
  {
   "cell_type": "code",
   "execution_count": 34,
   "metadata": {},
   "outputs": [],
   "source": [
    "# df(where Country/Region == 'Jordan')\n",
    "jordan_data = df[ df['Country/Region'] == 'Jordan' ]"
   ]
  },
  {
   "cell_type": "code",
   "execution_count": 35,
   "metadata": {},
   "outputs": [
    {
     "output_type": "execute_result",
     "data": {
      "text/plain": "         Confirmed      Deaths    Recovered      Active   New cases  \\\ncount   188.000000  188.000000   188.000000  188.000000  188.000000   \nmean    495.446809    5.537234   361.941489  127.968085    6.840426   \nstd     434.626599    4.294468   363.058078   97.457239    7.888668   \nmin       0.000000    0.000000     0.000000    0.000000    0.000000   \n25%       1.000000    0.000000     0.000000    1.000000    0.000000   \n50%     442.500000    7.000000   329.000000  136.500000    4.000000   \n75%     869.750000    9.000000   664.750000  209.500000   11.000000   \nmax    1223.000000   11.000000  1041.000000  295.000000   40.000000   \n\n       New deaths  New recovered  \ncount  188.000000     188.000000  \nmean     0.058511       5.537234  \nstd      0.277078      12.538441  \nmin      0.000000     -89.000000  \n25%      0.000000       0.000000  \n50%      0.000000       3.000000  \n75%      0.000000       8.000000  \nmax      2.000000     107.000000  ",
      "text/html": "<div>\n<style scoped>\n    .dataframe tbody tr th:only-of-type {\n        vertical-align: middle;\n    }\n\n    .dataframe tbody tr th {\n        vertical-align: top;\n    }\n\n    .dataframe thead th {\n        text-align: right;\n    }\n</style>\n<table border=\"1\" class=\"dataframe\">\n  <thead>\n    <tr style=\"text-align: right;\">\n      <th></th>\n      <th>Confirmed</th>\n      <th>Deaths</th>\n      <th>Recovered</th>\n      <th>Active</th>\n      <th>New cases</th>\n      <th>New deaths</th>\n      <th>New recovered</th>\n    </tr>\n  </thead>\n  <tbody>\n    <tr>\n      <th>count</th>\n      <td>188.000000</td>\n      <td>188.000000</td>\n      <td>188.000000</td>\n      <td>188.000000</td>\n      <td>188.000000</td>\n      <td>188.000000</td>\n      <td>188.000000</td>\n    </tr>\n    <tr>\n      <th>mean</th>\n      <td>495.446809</td>\n      <td>5.537234</td>\n      <td>361.941489</td>\n      <td>127.968085</td>\n      <td>6.840426</td>\n      <td>0.058511</td>\n      <td>5.537234</td>\n    </tr>\n    <tr>\n      <th>std</th>\n      <td>434.626599</td>\n      <td>4.294468</td>\n      <td>363.058078</td>\n      <td>97.457239</td>\n      <td>7.888668</td>\n      <td>0.277078</td>\n      <td>12.538441</td>\n    </tr>\n    <tr>\n      <th>min</th>\n      <td>0.000000</td>\n      <td>0.000000</td>\n      <td>0.000000</td>\n      <td>0.000000</td>\n      <td>0.000000</td>\n      <td>0.000000</td>\n      <td>-89.000000</td>\n    </tr>\n    <tr>\n      <th>25%</th>\n      <td>1.000000</td>\n      <td>0.000000</td>\n      <td>0.000000</td>\n      <td>1.000000</td>\n      <td>0.000000</td>\n      <td>0.000000</td>\n      <td>0.000000</td>\n    </tr>\n    <tr>\n      <th>50%</th>\n      <td>442.500000</td>\n      <td>7.000000</td>\n      <td>329.000000</td>\n      <td>136.500000</td>\n      <td>4.000000</td>\n      <td>0.000000</td>\n      <td>3.000000</td>\n    </tr>\n    <tr>\n      <th>75%</th>\n      <td>869.750000</td>\n      <td>9.000000</td>\n      <td>664.750000</td>\n      <td>209.500000</td>\n      <td>11.000000</td>\n      <td>0.000000</td>\n      <td>8.000000</td>\n    </tr>\n    <tr>\n      <th>max</th>\n      <td>1223.000000</td>\n      <td>11.000000</td>\n      <td>1041.000000</td>\n      <td>295.000000</td>\n      <td>40.000000</td>\n      <td>2.000000</td>\n      <td>107.000000</td>\n    </tr>\n  </tbody>\n</table>\n</div>"
     },
     "metadata": {},
     "execution_count": 35
    }
   ],
   "source": [
    "jordan_data.describe()"
   ]
  },
  {
   "cell_type": "code",
   "execution_count": 36,
   "metadata": {},
   "outputs": [
    {
     "output_type": "execute_result",
     "data": {
      "text/plain": "             Date Country/Region  Confirmed  Deaths  Recovered  Active  \\\n33374  2020-07-18         Jordan       1214      11       1022     181   \n33561  2020-07-19         Jordan       1218      11       1024     183   \n33748  2020-07-20         Jordan       1223      11       1028     184   \n33935  2020-07-21         Jordan       1113      11       1034      68   \n34122  2020-07-22         Jordan       1120      11       1035      74   \n34309  2020-07-23         Jordan       1131      11       1035      85   \n34496  2020-07-24         Jordan       1146      11       1035     100   \n34683  2020-07-25         Jordan       1154      11       1036     107   \n34870  2020-07-26         Jordan       1168      11       1041     116   \n35057  2020-07-27         Jordan       1176      11       1041     124   \n\n       New cases  New deaths  New recovered             WHO Region  \n33374          5           1              1  Eastern Mediterranean  \n33561          4           0              2  Eastern Mediterranean  \n33748          5           0              4  Eastern Mediterranean  \n33935          0           0              6  Eastern Mediterranean  \n34122          7           0              1  Eastern Mediterranean  \n34309         11           0              0  Eastern Mediterranean  \n34496         15           0              0  Eastern Mediterranean  \n34683          8           0              1  Eastern Mediterranean  \n34870         14           0              5  Eastern Mediterranean  \n35057          8           0              0  Eastern Mediterranean  ",
      "text/html": "<div>\n<style scoped>\n    .dataframe tbody tr th:only-of-type {\n        vertical-align: middle;\n    }\n\n    .dataframe tbody tr th {\n        vertical-align: top;\n    }\n\n    .dataframe thead th {\n        text-align: right;\n    }\n</style>\n<table border=\"1\" class=\"dataframe\">\n  <thead>\n    <tr style=\"text-align: right;\">\n      <th></th>\n      <th>Date</th>\n      <th>Country/Region</th>\n      <th>Confirmed</th>\n      <th>Deaths</th>\n      <th>Recovered</th>\n      <th>Active</th>\n      <th>New cases</th>\n      <th>New deaths</th>\n      <th>New recovered</th>\n      <th>WHO Region</th>\n    </tr>\n  </thead>\n  <tbody>\n    <tr>\n      <th>33374</th>\n      <td>2020-07-18</td>\n      <td>Jordan</td>\n      <td>1214</td>\n      <td>11</td>\n      <td>1022</td>\n      <td>181</td>\n      <td>5</td>\n      <td>1</td>\n      <td>1</td>\n      <td>Eastern Mediterranean</td>\n    </tr>\n    <tr>\n      <th>33561</th>\n      <td>2020-07-19</td>\n      <td>Jordan</td>\n      <td>1218</td>\n      <td>11</td>\n      <td>1024</td>\n      <td>183</td>\n      <td>4</td>\n      <td>0</td>\n      <td>2</td>\n      <td>Eastern Mediterranean</td>\n    </tr>\n    <tr>\n      <th>33748</th>\n      <td>2020-07-20</td>\n      <td>Jordan</td>\n      <td>1223</td>\n      <td>11</td>\n      <td>1028</td>\n      <td>184</td>\n      <td>5</td>\n      <td>0</td>\n      <td>4</td>\n      <td>Eastern Mediterranean</td>\n    </tr>\n    <tr>\n      <th>33935</th>\n      <td>2020-07-21</td>\n      <td>Jordan</td>\n      <td>1113</td>\n      <td>11</td>\n      <td>1034</td>\n      <td>68</td>\n      <td>0</td>\n      <td>0</td>\n      <td>6</td>\n      <td>Eastern Mediterranean</td>\n    </tr>\n    <tr>\n      <th>34122</th>\n      <td>2020-07-22</td>\n      <td>Jordan</td>\n      <td>1120</td>\n      <td>11</td>\n      <td>1035</td>\n      <td>74</td>\n      <td>7</td>\n      <td>0</td>\n      <td>1</td>\n      <td>Eastern Mediterranean</td>\n    </tr>\n    <tr>\n      <th>34309</th>\n      <td>2020-07-23</td>\n      <td>Jordan</td>\n      <td>1131</td>\n      <td>11</td>\n      <td>1035</td>\n      <td>85</td>\n      <td>11</td>\n      <td>0</td>\n      <td>0</td>\n      <td>Eastern Mediterranean</td>\n    </tr>\n    <tr>\n      <th>34496</th>\n      <td>2020-07-24</td>\n      <td>Jordan</td>\n      <td>1146</td>\n      <td>11</td>\n      <td>1035</td>\n      <td>100</td>\n      <td>15</td>\n      <td>0</td>\n      <td>0</td>\n      <td>Eastern Mediterranean</td>\n    </tr>\n    <tr>\n      <th>34683</th>\n      <td>2020-07-25</td>\n      <td>Jordan</td>\n      <td>1154</td>\n      <td>11</td>\n      <td>1036</td>\n      <td>107</td>\n      <td>8</td>\n      <td>0</td>\n      <td>1</td>\n      <td>Eastern Mediterranean</td>\n    </tr>\n    <tr>\n      <th>34870</th>\n      <td>2020-07-26</td>\n      <td>Jordan</td>\n      <td>1168</td>\n      <td>11</td>\n      <td>1041</td>\n      <td>116</td>\n      <td>14</td>\n      <td>0</td>\n      <td>5</td>\n      <td>Eastern Mediterranean</td>\n    </tr>\n    <tr>\n      <th>35057</th>\n      <td>2020-07-27</td>\n      <td>Jordan</td>\n      <td>1176</td>\n      <td>11</td>\n      <td>1041</td>\n      <td>124</td>\n      <td>8</td>\n      <td>0</td>\n      <td>0</td>\n      <td>Eastern Mediterranean</td>\n    </tr>\n  </tbody>\n</table>\n</div>"
     },
     "metadata": {},
     "execution_count": 36
    }
   ],
   "source": [
    "jordan_data.tail(10)"
   ]
  },
  {
   "cell_type": "markdown",
   "metadata": {},
   "source": [
    "## What are the biggest 5 days in jordan in terms of new cases?"
   ]
  },
  {
   "cell_type": "code",
   "execution_count": 39,
   "metadata": {},
   "outputs": [
    {
     "output_type": "execute_result",
     "data": {
      "text/plain": "             Date Country/Region  Confirmed  Deaths  Recovered  Active  \\\n12056  2020-03-26         Jordan        212       0          1     211   \n26829  2020-06-13         Jordan        953       9        678     266   \n11308  2020-03-22         Jordan        112       0          1     111   \n26455  2020-06-11         Jordan        890       9        670     211   \n11682  2020-03-24         Jordan        154       0          1     153   \n\n       New cases  New deaths  New recovered             WHO Region  \n12056         40           0              0  Eastern Mediterranean  \n26829         38           0              7  Eastern Mediterranean  \n11308         27           0              0  Eastern Mediterranean  \n26455         27           0              7  Eastern Mediterranean  \n11682         27           0              0  Eastern Mediterranean  ",
      "text/html": "<div>\n<style scoped>\n    .dataframe tbody tr th:only-of-type {\n        vertical-align: middle;\n    }\n\n    .dataframe tbody tr th {\n        vertical-align: top;\n    }\n\n    .dataframe thead th {\n        text-align: right;\n    }\n</style>\n<table border=\"1\" class=\"dataframe\">\n  <thead>\n    <tr style=\"text-align: right;\">\n      <th></th>\n      <th>Date</th>\n      <th>Country/Region</th>\n      <th>Confirmed</th>\n      <th>Deaths</th>\n      <th>Recovered</th>\n      <th>Active</th>\n      <th>New cases</th>\n      <th>New deaths</th>\n      <th>New recovered</th>\n      <th>WHO Region</th>\n    </tr>\n  </thead>\n  <tbody>\n    <tr>\n      <th>12056</th>\n      <td>2020-03-26</td>\n      <td>Jordan</td>\n      <td>212</td>\n      <td>0</td>\n      <td>1</td>\n      <td>211</td>\n      <td>40</td>\n      <td>0</td>\n      <td>0</td>\n      <td>Eastern Mediterranean</td>\n    </tr>\n    <tr>\n      <th>26829</th>\n      <td>2020-06-13</td>\n      <td>Jordan</td>\n      <td>953</td>\n      <td>9</td>\n      <td>678</td>\n      <td>266</td>\n      <td>38</td>\n      <td>0</td>\n      <td>7</td>\n      <td>Eastern Mediterranean</td>\n    </tr>\n    <tr>\n      <th>11308</th>\n      <td>2020-03-22</td>\n      <td>Jordan</td>\n      <td>112</td>\n      <td>0</td>\n      <td>1</td>\n      <td>111</td>\n      <td>27</td>\n      <td>0</td>\n      <td>0</td>\n      <td>Eastern Mediterranean</td>\n    </tr>\n    <tr>\n      <th>26455</th>\n      <td>2020-06-11</td>\n      <td>Jordan</td>\n      <td>890</td>\n      <td>9</td>\n      <td>670</td>\n      <td>211</td>\n      <td>27</td>\n      <td>0</td>\n      <td>7</td>\n      <td>Eastern Mediterranean</td>\n    </tr>\n    <tr>\n      <th>11682</th>\n      <td>2020-03-24</td>\n      <td>Jordan</td>\n      <td>154</td>\n      <td>0</td>\n      <td>1</td>\n      <td>153</td>\n      <td>27</td>\n      <td>0</td>\n      <td>0</td>\n      <td>Eastern Mediterranean</td>\n    </tr>\n  </tbody>\n</table>\n</div>"
     },
     "metadata": {},
     "execution_count": 39
    }
   ],
   "source": [
    "jordan_data.sort_values('New cases', ascending=False).head(5)"
   ]
  },
  {
   "cell_type": "markdown",
   "metadata": {},
   "source": [
    "### All days in Jordan where new cases > 20, show only Date, New cases, and Recovered columns"
   ]
  },
  {
   "cell_type": "code",
   "execution_count": 46,
   "metadata": {},
   "outputs": [
    {
     "output_type": "execute_result",
     "data": {
      "text/plain": "             Date  New cases  Recovered\n11308  2020-03-22         27          1\n11682  2020-03-24         27          1\n12056  2020-03-26         40          1\n12243  2020-03-27         23         18\n13365  2020-04-02         21         45\n13926  2020-04-05         22        110\n19910  2020-05-07         21        381\n20658  2020-05-11         22        390\n22341  2020-05-20         23        446\n25894  2020-06-08         23        627\n26455  2020-06-11         27        670\n26642  2020-06-12         25        671\n26829  2020-06-13         38        678\n28886  2020-06-24         24        782",
      "text/html": "<div>\n<style scoped>\n    .dataframe tbody tr th:only-of-type {\n        vertical-align: middle;\n    }\n\n    .dataframe tbody tr th {\n        vertical-align: top;\n    }\n\n    .dataframe thead th {\n        text-align: right;\n    }\n</style>\n<table border=\"1\" class=\"dataframe\">\n  <thead>\n    <tr style=\"text-align: right;\">\n      <th></th>\n      <th>Date</th>\n      <th>New cases</th>\n      <th>Recovered</th>\n    </tr>\n  </thead>\n  <tbody>\n    <tr>\n      <th>11308</th>\n      <td>2020-03-22</td>\n      <td>27</td>\n      <td>1</td>\n    </tr>\n    <tr>\n      <th>11682</th>\n      <td>2020-03-24</td>\n      <td>27</td>\n      <td>1</td>\n    </tr>\n    <tr>\n      <th>12056</th>\n      <td>2020-03-26</td>\n      <td>40</td>\n      <td>1</td>\n    </tr>\n    <tr>\n      <th>12243</th>\n      <td>2020-03-27</td>\n      <td>23</td>\n      <td>18</td>\n    </tr>\n    <tr>\n      <th>13365</th>\n      <td>2020-04-02</td>\n      <td>21</td>\n      <td>45</td>\n    </tr>\n    <tr>\n      <th>13926</th>\n      <td>2020-04-05</td>\n      <td>22</td>\n      <td>110</td>\n    </tr>\n    <tr>\n      <th>19910</th>\n      <td>2020-05-07</td>\n      <td>21</td>\n      <td>381</td>\n    </tr>\n    <tr>\n      <th>20658</th>\n      <td>2020-05-11</td>\n      <td>22</td>\n      <td>390</td>\n    </tr>\n    <tr>\n      <th>22341</th>\n      <td>2020-05-20</td>\n      <td>23</td>\n      <td>446</td>\n    </tr>\n    <tr>\n      <th>25894</th>\n      <td>2020-06-08</td>\n      <td>23</td>\n      <td>627</td>\n    </tr>\n    <tr>\n      <th>26455</th>\n      <td>2020-06-11</td>\n      <td>27</td>\n      <td>670</td>\n    </tr>\n    <tr>\n      <th>26642</th>\n      <td>2020-06-12</td>\n      <td>25</td>\n      <td>671</td>\n    </tr>\n    <tr>\n      <th>26829</th>\n      <td>2020-06-13</td>\n      <td>38</td>\n      <td>678</td>\n    </tr>\n    <tr>\n      <th>28886</th>\n      <td>2020-06-24</td>\n      <td>24</td>\n      <td>782</td>\n    </tr>\n  </tbody>\n</table>\n</div>"
     },
     "metadata": {},
     "execution_count": 46
    }
   ],
   "source": [
    "jordan_data[df['New cases']>20][['Date','New cases','Recovered']]"
   ]
  },
  {
   "cell_type": "code",
   "execution_count": 47,
   "metadata": {},
   "outputs": [
    {
     "output_type": "execute_result",
     "data": {
      "text/plain": "New cases     25.928571\nRecovered    344.357143\ndtype: float64"
     },
     "metadata": {},
     "execution_count": 47
    }
   ],
   "source": [
    "jordan_data[df['New cases']>20][['Date','New cases','Recovered']].mean()"
   ]
  },
  {
   "cell_type": "code",
   "execution_count": 55,
   "metadata": {},
   "outputs": [
    {
     "output_type": "execute_result",
     "data": {
      "text/plain": "                          Date  Confirmed  Deaths  Recovered  Active  \\\nCountry/Region                                                         \nAfghanistan         2020-07-27      36263    1269      25198   20311   \nAlbania             2020-07-27       4880     144       2745    1991   \nAlgeria             2020-07-27      27973    1163      18837    8114   \nAndorra             2020-07-27        907      52        803     504   \nAngola              2020-07-27        950      41        242     667   \n...                        ...        ...     ...        ...     ...   \nWest Bank and Gaza  2020-07-27      10621      78       3752    7382   \nWestern Sahara      2020-07-27         10       1          8       6   \nYemen               2020-07-27       1691     483        833     580   \nZambia              2020-07-27       4552     140       2815    2236   \nZimbabwe            2020-07-27       2704      36        542    2126   \n\n                    New cases  New deaths  New recovered  \\\nCountry/Region                                             \nAfghanistan               915          46           1930   \nAlbania                   126           6             85   \nAlgeria                   675          30            749   \nAndorra                    79           4             57   \nAngola                     62           4             75   \n...                       ...         ...            ...   \nWest Bank and Gaza        501           7            770   \nWestern Sahara              4           1              5   \nYemen                     116          52            180   \nZambia                    915          67            465   \nZimbabwe                  273           5            114   \n\n                               WHO Region  \nCountry/Region                             \nAfghanistan         Eastern Mediterranean  \nAlbania                            Europe  \nAlgeria                            Africa  \nAndorra                            Europe  \nAngola                             Africa  \n...                                   ...  \nWest Bank and Gaza  Eastern Mediterranean  \nWestern Sahara                     Africa  \nYemen               Eastern Mediterranean  \nZambia                             Africa  \nZimbabwe                           Africa  \n\n[187 rows x 9 columns]",
      "text/html": "<div>\n<style scoped>\n    .dataframe tbody tr th:only-of-type {\n        vertical-align: middle;\n    }\n\n    .dataframe tbody tr th {\n        vertical-align: top;\n    }\n\n    .dataframe thead th {\n        text-align: right;\n    }\n</style>\n<table border=\"1\" class=\"dataframe\">\n  <thead>\n    <tr style=\"text-align: right;\">\n      <th></th>\n      <th>Date</th>\n      <th>Confirmed</th>\n      <th>Deaths</th>\n      <th>Recovered</th>\n      <th>Active</th>\n      <th>New cases</th>\n      <th>New deaths</th>\n      <th>New recovered</th>\n      <th>WHO Region</th>\n    </tr>\n    <tr>\n      <th>Country/Region</th>\n      <th></th>\n      <th></th>\n      <th></th>\n      <th></th>\n      <th></th>\n      <th></th>\n      <th></th>\n      <th></th>\n      <th></th>\n    </tr>\n  </thead>\n  <tbody>\n    <tr>\n      <th>Afghanistan</th>\n      <td>2020-07-27</td>\n      <td>36263</td>\n      <td>1269</td>\n      <td>25198</td>\n      <td>20311</td>\n      <td>915</td>\n      <td>46</td>\n      <td>1930</td>\n      <td>Eastern Mediterranean</td>\n    </tr>\n    <tr>\n      <th>Albania</th>\n      <td>2020-07-27</td>\n      <td>4880</td>\n      <td>144</td>\n      <td>2745</td>\n      <td>1991</td>\n      <td>126</td>\n      <td>6</td>\n      <td>85</td>\n      <td>Europe</td>\n    </tr>\n    <tr>\n      <th>Algeria</th>\n      <td>2020-07-27</td>\n      <td>27973</td>\n      <td>1163</td>\n      <td>18837</td>\n      <td>8114</td>\n      <td>675</td>\n      <td>30</td>\n      <td>749</td>\n      <td>Africa</td>\n    </tr>\n    <tr>\n      <th>Andorra</th>\n      <td>2020-07-27</td>\n      <td>907</td>\n      <td>52</td>\n      <td>803</td>\n      <td>504</td>\n      <td>79</td>\n      <td>4</td>\n      <td>57</td>\n      <td>Europe</td>\n    </tr>\n    <tr>\n      <th>Angola</th>\n      <td>2020-07-27</td>\n      <td>950</td>\n      <td>41</td>\n      <td>242</td>\n      <td>667</td>\n      <td>62</td>\n      <td>4</td>\n      <td>75</td>\n      <td>Africa</td>\n    </tr>\n    <tr>\n      <th>...</th>\n      <td>...</td>\n      <td>...</td>\n      <td>...</td>\n      <td>...</td>\n      <td>...</td>\n      <td>...</td>\n      <td>...</td>\n      <td>...</td>\n      <td>...</td>\n    </tr>\n    <tr>\n      <th>West Bank and Gaza</th>\n      <td>2020-07-27</td>\n      <td>10621</td>\n      <td>78</td>\n      <td>3752</td>\n      <td>7382</td>\n      <td>501</td>\n      <td>7</td>\n      <td>770</td>\n      <td>Eastern Mediterranean</td>\n    </tr>\n    <tr>\n      <th>Western Sahara</th>\n      <td>2020-07-27</td>\n      <td>10</td>\n      <td>1</td>\n      <td>8</td>\n      <td>6</td>\n      <td>4</td>\n      <td>1</td>\n      <td>5</td>\n      <td>Africa</td>\n    </tr>\n    <tr>\n      <th>Yemen</th>\n      <td>2020-07-27</td>\n      <td>1691</td>\n      <td>483</td>\n      <td>833</td>\n      <td>580</td>\n      <td>116</td>\n      <td>52</td>\n      <td>180</td>\n      <td>Eastern Mediterranean</td>\n    </tr>\n    <tr>\n      <th>Zambia</th>\n      <td>2020-07-27</td>\n      <td>4552</td>\n      <td>140</td>\n      <td>2815</td>\n      <td>2236</td>\n      <td>915</td>\n      <td>67</td>\n      <td>465</td>\n      <td>Africa</td>\n    </tr>\n    <tr>\n      <th>Zimbabwe</th>\n      <td>2020-07-27</td>\n      <td>2704</td>\n      <td>36</td>\n      <td>542</td>\n      <td>2126</td>\n      <td>273</td>\n      <td>5</td>\n      <td>114</td>\n      <td>Africa</td>\n    </tr>\n  </tbody>\n</table>\n<p>187 rows × 9 columns</p>\n</div>"
     },
     "metadata": {},
     "execution_count": 55
    }
   ],
   "source": [
    "df.groupby('Country/Region').max()"
   ]
  },
  {
   "cell_type": "code",
   "execution_count": 60,
   "metadata": {},
   "outputs": [
    {
     "output_type": "execute_result",
     "data": {
      "text/plain": "5.537234042553192"
     },
     "metadata": {},
     "execution_count": 60
    }
   ],
   "source": [
    "jordan_data.describe()['Deaths']['mean']"
   ]
  },
  {
   "cell_type": "code",
   "execution_count": 61,
   "metadata": {},
   "outputs": [
    {
     "output_type": "execute_result",
     "data": {
      "text/plain": "4.29446812535505"
     },
     "metadata": {},
     "execution_count": 61
    }
   ],
   "source": [
    "jordan_data.describe()['Deaths']['std']"
   ]
  },
  {
   "cell_type": "code",
   "execution_count": null,
   "metadata": {},
   "outputs": [],
   "source": []
  }
 ]
}